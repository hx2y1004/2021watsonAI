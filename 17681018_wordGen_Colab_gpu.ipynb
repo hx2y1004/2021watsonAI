{
  "nbformat": 4,
  "nbformat_minor": 0,
  "metadata": {
    "accelerator": "GPU",
    "colab": {
      "name": "wordGen-Colab-gpu.ipynb의 사본",
      "provenance": [],
      "collapsed_sections": []
    },
    "kernelspec": {
      "display_name": "Python 3",
      "name": "python3"
    }
  },
  "cells": [
    {
      "cell_type": "code",
      "metadata": {
        "id": "LazMJ61LlnOS"
      },
      "source": [
        "from __future__ import print_function\n",
        "import json\n",
        "from keras.models import Sequential\n",
        "from keras.layers import Dense, Activation\n",
        "from keras.layers import LSTM\n",
        "from keras.optimizers import Adam\n",
        "from keras.utils.data_utils import get_file\n",
        "import numpy as np\n",
        "import random\n",
        "import sys\n",
        "import tensorflow as tf"
      ],
      "execution_count": null,
      "outputs": []
    },
    {
      "cell_type": "code",
      "metadata": {
        "id": "aiFiVMFIozHn"
      },
      "source": [
        "%%capture\n",
        "! wget --no-check-certificate 'https://docs.google.com/uc?export=download&id=1m5rdL_vkZr7JCo_-8g4v9fh2jfU-sX-A' -O yelp_100_3.txt\n",
        "! wget --no-check-certificate 'https://docs.google.com/uc?export=download&id=1qfMZCaANhTR6b1NM4jXGNQQP5Z3eSyq8' -O indices_char.txt\n",
        "! wget --no-check-certificate 'https://docs.google.com/uc?export=download&id=1a1CVCwKQWxyHBpTR3sVgsf7eRtZHjUqx' -O char_indices.txt\n",
        "! wget --no-check-certificate 'https://docs.google.com/uc?export=download&id=1MZEUyaqT48D858zwEVzlTfjgXJvmY-BI' -O transfer_weights"
      ],
      "execution_count": null,
      "outputs": []
    },
    {
      "cell_type": "code",
      "metadata": {
        "colab": {
          "base_uri": "https://localhost:8080/"
        },
        "id": "Tc0xeVf2mPXt",
        "outputId": "86a5c500-0970-437f-9b5e-a1b68d1edcc3"
      },
      "source": [
        "!ls -l"
      ],
      "execution_count": null,
      "outputs": [
        {
          "output_type": "stream",
          "text": [
            "total 29896\n",
            "-rw-r--r-- 1 root root      541 May  5 04:52 char_indices.txt\n",
            "-rw-r--r-- 1 root root      663 May  5 04:52 indices_char.txt\n",
            "drwxr-xr-x 1 root root     4096 Apr 21 13:39 sample_data\n",
            "-rw-r--r-- 1 root root 30524436 May  5 04:52 transfer_weights\n",
            "-rw-r--r-- 1 root root    71250 May  5 04:52 yelp_100_3.txt\n"
          ],
          "name": "stdout"
        }
      ]
    },
    {
      "cell_type": "code",
      "metadata": {
        "colab": {
          "base_uri": "https://localhost:8080/"
        },
        "id": "cu1t1VSrmTwz",
        "outputId": "531de30e-5d7a-40b7-960c-bbb9bfd65958"
      },
      "source": [
        "path = 'yelp_100_3.txt'\n",
        "text = open(path).read().lower()\n",
        "print('corpus length:', len(text))\n",
        "\n",
        "char_indices = json.loads(open('char_indices.txt').read())\n",
        "indices_char = json.loads(open('indices_char.txt').read())\n",
        "chars = sorted(char_indices.keys())\n",
        "print(indices_char)\n",
        "#chars = sorted(list(set(text)))\n",
        "print('total chars:', len(chars))\n",
        "#char_indices = dict((c, i) for i, c in enumerate(chars))\n",
        "#indices_char = dict((i, c) for i, c in enumerate(chars))\n",
        "\n",
        "# cut the text in semi-redundant sequences of maxlen characters\n",
        "maxlen = 256\n",
        "step = 3\n",
        "sentences = []\n",
        "next_chars = []\n",
        "for i in range(0, len(text) - maxlen, step):\n",
        "    sentences.append(text[i: i + maxlen])\n",
        "    next_chars.append(text[i + maxlen])\n",
        "print('nb sequences:', len(sentences))\n",
        "\n",
        "print('Vectorization...')\n",
        "X = np.zeros((len(sentences), maxlen, len(chars)), dtype=np.bool)\n",
        "y = np.zeros((len(sentences), len(chars)), dtype=np.bool)\n",
        "for i, sentence in enumerate(sentences):\n",
        "    for t, char in enumerate(sentence):\n",
        "        X[i, t, char_indices[char]] = 1\n",
        "    y[i, char_indices[next_chars[i]]] = 1\n",
        "\n",
        "\n"
      ],
      "execution_count": null,
      "outputs": [
        {
          "output_type": "stream",
          "text": [
            "corpus length: 71250\n",
            "{'0': '\\n', '1': ' ', '2': '!', '3': '\"', '4': '#', '5': '$', '6': '%', '7': '&', '8': \"'\", '9': '(', '10': ')', '11': '*', '12': '+', '13': ',', '14': '-', '15': '.', '16': '/', '17': '0', '18': '1', '19': '2', '20': '3', '21': '4', '22': '5', '23': '6', '24': '7', '25': '8', '26': '9', '27': ':', '28': ';', '29': '=', '30': '?', '31': '[', '32': ']', '33': 'a', '34': 'b', '35': 'c', '36': 'd', '37': 'e', '38': 'f', '39': 'g', '40': 'h', '41': 'i', '42': 'j', '43': 'k', '44': 'l', '45': 'm', '46': 'n', '47': 'o', '48': 'p', '49': 'q', '50': 'r', '51': 's', '52': 't', '53': 'u', '54': 'v', '55': 'w', '56': 'x', '57': 'y', '58': 'z', '59': '{', '60': '}'}\n",
            "total chars: 61\n",
            "nb sequences: 23665\n",
            "Vectorization...\n"
          ],
          "name": "stdout"
        }
      ]
    },
    {
      "cell_type": "code",
      "metadata": {
        "colab": {
          "base_uri": "https://localhost:8080/"
        },
        "id": "Kk8heE1FyCgs",
        "outputId": "5a90260f-fd0f-47b0-de7c-2956b4795c6a"
      },
      "source": [
        "\n",
        "# build the model: a single LSTM\n",
        "print('Build model...')\n",
        "model = Sequential()\n",
        "model.add(LSTM(1024, return_sequences=True, input_shape=(maxlen, len(chars))))\n",
        "model.add(LSTM(512, return_sequences=False))\n",
        "model.add(Dense(len(chars)))\n",
        "model.add(Activation('softmax'))\n",
        "optimizer = Adam(lr=0.002)\n",
        "model.compile(loss='categorical_crossentropy', optimizer=optimizer)"
      ],
      "execution_count": null,
      "outputs": [
        {
          "output_type": "stream",
          "text": [
            "Build model...\n"
          ],
          "name": "stdout"
        }
      ]
    },
    {
      "cell_type": "code",
      "metadata": {
        "colab": {
          "base_uri": "https://localhost:8080/"
        },
        "id": "stQZjEGtx1DZ",
        "outputId": "5c224bad-604c-47f2-9825-01928976e3ce"
      },
      "source": [
        "print(model.summary())"
      ],
      "execution_count": null,
      "outputs": [
        {
          "output_type": "stream",
          "text": [
            "Model: \"sequential\"\n",
            "_________________________________________________________________\n",
            "Layer (type)                 Output Shape              Param #   \n",
            "=================================================================\n",
            "lstm (LSTM)                  (None, 256, 1024)         4448256   \n",
            "_________________________________________________________________\n",
            "lstm_1 (LSTM)                (None, 512)               3147776   \n",
            "_________________________________________________________________\n",
            "dense (Dense)                (None, 61)                31293     \n",
            "_________________________________________________________________\n",
            "activation (Activation)      (None, 61)                0         \n",
            "=================================================================\n",
            "Total params: 7,627,325\n",
            "Trainable params: 7,627,325\n",
            "Non-trainable params: 0\n",
            "_________________________________________________________________\n",
            "None\n"
          ],
          "name": "stdout"
        }
      ]
    },
    {
      "cell_type": "code",
      "metadata": {
        "colab": {
          "base_uri": "https://localhost:8080/"
        },
        "id": "Tbp_lVfN_Pos",
        "outputId": "61f4c110-7007-4cb6-8529-f8dba872f562"
      },
      "source": [
        "model.load_weights(\"transfer_weights\")\n",
        "print('model loaded...')\n",
        "def sample(preds, temperature=.6):\n",
        "    # helper function to sample an index from a probability array\n",
        "    preds = np.asarray(preds).astype('float64')\n",
        "    preds = np.log(preds) / temperature\n",
        "    exp_preds = np.exp(preds)\n",
        "    preds = exp_preds / np.sum(exp_preds)\n",
        "    probas = np.random.multinomial(1, preds, 1)\n",
        "    return np.argmax(probas)\n",
        "\n",
        "# train the model, output generated text after each iteration\n",
        "for iteration in range(1, 5):\n",
        "    print()\n",
        "    print('-' * 50)\n",
        "    print('Iteration', iteration)\n",
        "    x = np.zeros((1, maxlen, len(chars)))\n",
        "    preds = model.predict(x, verbose=0)[0]\n",
        "    \n",
        "    model.fit(X, y, batch_size=128, epochs=1)\n",
        "\n",
        "    start_index = random.randint(0, len(text) - maxlen - 1)\n",
        "    #start_index = char_indices[\"{\"]\n",
        "\n",
        "    for diversity in [0.2, 0.4, 0.6, 0.8]:\n",
        "        print()\n",
        "        print('----- diversity:', diversity)\n",
        "\n",
        "        generated = ''\n",
        "        sentence = text[start_index: start_index + maxlen]\n",
        "        generated += sentence\n",
        "        print('----- Generating with seed: \"' + sentence + '\"')\n",
        "        sys.stdout.write(generated)\n",
        "        for i in range(400):\n",
        "            x = np.zeros((1, maxlen, len(chars)))\n",
        "            for t, char in enumerate(sentence):\n",
        "                x[0, t, char_indices[char]] = 1.\n",
        "\n",
        "            preds = model.predict(x, verbose=0)[0]\n",
        "            next_index = sample(preds, diversity)\n",
        "            #print(next_index)\n",
        "            #print (indices_char)\n",
        "            next_char = indices_char[str(next_index)]\n",
        "\n",
        "            generated += next_char\n",
        "            sentence = sentence[1:] + next_char\n",
        "\n",
        "            sys.stdout.write(next_char)\n",
        "            sys.stdout.flush()\n",
        "        print()"
      ],
      "execution_count": null,
      "outputs": [
        {
          "output_type": "stream",
          "text": [
            "model loaded...\n",
            "\n",
            "--------------------------------------------------\n",
            "Iteration 1\n",
            "185/185 [==============================] - 86s 453ms/step - loss: 1.4971\n",
            "\n",
            "----- diversity: 0.2\n",
            "----- Generating with seed: \"you can either get sweet potato or regular. i also get sweet potato then regret not just getting the regular which are better in my mind. if the weather permits, sit on the patio and enjoy the beautiful water fountains, views of the mountain and tropical/d\"\n",
            "you can either get sweet potato or regular. i also get sweet potato then regret not just getting the regular which are better in my mind. if the weather permits, sit on the patio and enjoy the beautiful water fountains, views of the mountain and tropical/dels and some of the best says the server was sours and sometimes and the server was souse the salsa  and so it was souse the salsa  and so it was sous the salad def in the server sauce is the server was sours served the salsa  and the server was sours and something that the server was so you can the server was cooled and served the server was rell and she was souse the salsa and the server was sou\n",
            "\n",
            "----- diversity: 0.4\n",
            "----- Generating with seed: \"you can either get sweet potato or regular. i also get sweet potato then regret not just getting the regular which are better in my mind. if the weather permits, sit on the patio and enjoy the beautiful water fountains, views of the mountain and tropical/d\"\n",
            "you can either get sweet potato or regular. i also get sweet potato then regret not just getting the regular which are better in my mind. if the weather permits, sit on the patio and enjoy the beautiful water fountains, views of the mountain and tropical/dels sauce.  i stupp salad and perfectly await.  i am not sure the salsa sas my wife was very some customer not good and we were to ded to the server was sours out to several open sour for dinner was shore for a cood for more place and so it was combo out of the place to severa are must and so it was so some the salsa  every served soup and the bast sauce. the salad and served the salsa  how seriou\n",
            "\n",
            "----- diversity: 0.6\n",
            "----- Generating with seed: \"you can either get sweet potato or regular. i also get sweet potato then regret not just getting the regular which are better in my mind. if the weather permits, sit on the patio and enjoy the beautiful water fountains, views of the mountain and tropical/d\"\n",
            "you can either get sweet potato or regular. i also get sweet potato then regret not just getting the regular which are better in my mind. if the weather permits, sit on the patio and enjoy the beautiful water fountains, views of the mountain and tropical/dels for the soup and served red very tasted but for desser just sure i was so it we were fell to get a been med so at the pizza is not served served beef fount of the food restaurant and the food was cup, but the food was amount out of the regupar chripp had the server is a surk the server was cooled to reolls got me try in the sidce this sour served a get to still a the very glad can better out a\n",
            "\n",
            "----- diversity: 0.8\n",
            "----- Generating with seed: \"you can either get sweet potato or regular. i also get sweet potato then regret not just getting the regular which are better in my mind. if the weather permits, sit on the patio and enjoy the beautiful water fountains, views of the mountain and tropical/d\"\n",
            "you can either get sweet potato or regular. i also get sweet potato then regret not just getting the regular which are better in my mind. if the weather permits, sit on the patio and enjoy the beautiful water fountains, views of the mountain and tropical/dels, it wasn't stupp shotts, takee  that the per pers of when e'se wows.  we will gried sour from the disamale.  suchere for a special quaste pizza (sarmis choss the vedenched sausage mare at served that is it we can the other is mole ket to try a sorome food stuffed to a special woss of their comstgrack and jasfed tastes. the bars fastly and cream. low the burger salad.  the phone is ppotry food.\n",
            "\n",
            "--------------------------------------------------\n",
            "Iteration 2\n",
            "185/185 [==============================] - 84s 455ms/step - loss: 1.0464\n",
            "\n",
            "----- diversity: 0.2\n",
            "----- Generating with seed: \"service is rushed, but the food is worth dealing with matt's shortcomings.}{how does this restaurant generate so many 4 and 5 star ratings? \n",
            "\n",
            "i know it was on the food channel, but honestly the food was sub-par. maybe it was just an off day, but i have a f\"\n",
            "service is rushed, but the food is worth dealing with matt's shortcomings.}{how does this restaurant generate so many 4 and 5 star ratings? \n",
            "\n",
            "i know it was on the food channel, but honestly the food was sub-par. maybe it was just an off day, but i have a fieling to git and the food as when you can the best it was a bit of eded the stopped in the but it's a bit of my was a fill and delicious the place for the service was all the service was pretty days of the place for the service was all the salads and the but it was away, i was great!}{i was good.  the service "
          ],
          "name": "stdout"
        },
        {
          "output_type": "stream",
          "text": [
            "/usr/local/lib/python3.7/dist-packages/ipykernel_launcher.py:6: RuntimeWarning: divide by zero encountered in log\n",
            "  \n"
          ],
          "name": "stderr"
        },
        {
          "output_type": "stream",
          "text": [
            "was salad.  it's a little chili bar and the sauce. the salsa carner food for the service\n",
            "\n",
            "----- diversity: 0.4\n",
            "----- Generating with seed: \"service is rushed, but the food is worth dealing with matt's shortcomings.}{how does this restaurant generate so many 4 and 5 star ratings? \n",
            "\n",
            "i know it was on the food channel, but honestly the food was sub-par. maybe it was just an off day, but i have a f\"\n",
            "service is rushed, but the food is worth dealing with matt's shortcomings.}{how does this restaurant generate so many 4 and 5 star ratings? \n",
            "\n",
            "i know it was on the food channel, but honestly the food was sub-par. maybe it was just an off day, but i have a fielier ol misice, but in the entree fries, like the place full for the place for the linch that the service was all the meal with the wait was so you can awhittious andies. i was alrially about to the were mean an the but it was a fulk of soup and fan the stars---00mmmmmmm with a too the best pays.  i think he didn the staff with food. i'm not anything i was long perurnit.  i had aluetty the best \n",
            "\n",
            "----- diversity: 0.6\n",
            "----- Generating with seed: \"service is rushed, but the food is worth dealing with matt's shortcomings.}{how does this restaurant generate so many 4 and 5 star ratings? \n",
            "\n",
            "i know it was on the food channel, but honestly the food was sub-par. maybe it was just an off day, but i have a f\"\n",
            "service is rushed, but the food is worth dealing with matt's shortcomings.}{how does this restaurant generate so many 4 and 5 star ratings? \n",
            "\n",
            "i know it was on the food channel, but honestly the food was sub-par. maybe it was just an off day, but i have a friends and a fred and was soos. i had the that as well, then you can the goy a little free in the frencite the salad.  it's anoud the spot. we was better light and the knows the stared in the mosh and they have been anything their lice was wait.  i have enfilied in need to me with the restaurant and enjoyed the service is all the stopped in a fan when you faliding waf looked an it way a little nig\n",
            "\n",
            "----- diversity: 0.8\n",
            "----- Generating with seed: \"service is rushed, but the food is worth dealing with matt's shortcomings.}{how does this restaurant generate so many 4 and 5 star ratings? \n",
            "\n",
            "i know it was on the food channel, but honestly the food was sub-par. maybe it was just an off day, but i have a f\"\n",
            "service is rushed, but the food is worth dealing with matt's shortcomings.}{how does this restaurant generate so many 4 and 5 star ratings? \n",
            "\n",
            "i know it was on the food channel, but honestly the food was sub-par. maybe it was just an off day, but i have a fiest up a buests.  i am intod the checky mesiched-in pelple need up the jubzerne cheese is sized the best tide rutuous. the good for the restaurant\")) and a they will but you. my nating inso her to me yalide out-)\n",
            "means. the vized my bays of my mold pinch is no actuver.\n",
            "\n",
            "other than casuoure thing, which is the before the fried sausage basters, and they don't carnith the place was peetions and drin\n",
            "\n",
            "--------------------------------------------------\n",
            "Iteration 3\n",
            "185/185 [==============================] - 84s 452ms/step - loss: 0.8166\n",
            "\n",
            "----- diversity: 0.2\n",
            "----- Generating with seed: \"ncing sustained in-migration is because people are like lizards--- ( in more ways than one)---they like the sun , they like the heat ... they flee from northern climes to get away from the chill - don't ac your premises such that it reminds us of duluth in\"\n",
            "ncing sustained in-migration is because people are like lizards--- ( in more ways than one)---they like the sun , they like the heat ... they flee from northern climes to get away from the chill - don't ac your premises such that it reminds us of duluth inside i did not me in the morning and the sashim sours and the place as the mosh and the sashe the best is the service was so my favorites to the best is you can hasked and the sashe the basic paping off and i really got a little not to this well be a good papk of the sashe they was going to the best say i my filling with out to the wait.  i do but the salsa the was so your server with out to a fin\n",
            "\n",
            "----- diversity: 0.4\n",
            "----- Generating with seed: \"ncing sustained in-migration is because people are like lizards--- ( in more ways than one)---they like the sun , they like the heat ... they flee from northern climes to get away from the chill - don't ac your premises such that it reminds us of duluth in\"\n",
            "ncing sustained in-migration is because people are like lizards--- ( in more ways than one)---they like the sun , they like the heat ... they flee from northern climes to get away from the chill - don't ac your premises such that it reminds us of duluth inside i ded the a tear place for a need and had a nice specials and he was good and the food is a good phorned on the sashe to the salce.  it was a little shrimp, and the cash manager refur point of the cheese, and the one of the sashe the sashim i didn't ask a strowgering of the manger as top burger and he said to a sprough i did not see to see to remomber whole i was good and reasonable, but the \n",
            "\n",
            "----- diversity: 0.6\n",
            "----- Generating with seed: \"ncing sustained in-migration is because people are like lizards--- ( in more ways than one)---they like the sun , they like the heat ... they flee from northern climes to get away from the chill - don't ac your premises such that it reminds us of duluth in\"\n",
            "ncing sustained in-migration is because people are like lizards--- ( in more ways than one)---they like the sun , they like the heat ... they flee from northern climes to get away from the chill - don't ac your premises such that it reminds us of duluth in the fell and got a beef and family food, service and cheese, on your server for the its she was good, luch for the mosh and so your funky meat pizza in the mix phoane the service is so i don't live any couldn't here as indigatt the best say i will got forns to speak with out to the food was peryster.  i had a bit how salad. withing to is, and i ask a few days basing for a limple veggness to music\n",
            "\n",
            "----- diversity: 0.8\n",
            "----- Generating with seed: \"ncing sustained in-migration is because people are like lizards--- ( in more ways than one)---they like the sun , they like the heat ... they flee from northern climes to get away from the chill - don't ac your premises such that it reminds us of duluth in\"\n",
            "ncing sustained in-migration is because people are like lizards--- ( in more ways than one)---they like the sun , they like the heat ... they flee from northern climes to get away from the chill - don't ac your premises such that it reminds us of duluth insude and food exenting food regurner was ext. withough i ordered a narthains, and don't meat with saice.  it's playee, i had the try, and dripped to a sathr, i did not served what a time with out to the amizing redsouncers are thing out (so your finior my my night with chacken. and a few days back and tell 's that they are 's the best reavon as go small deffured and the food, but the otaster for n\n",
            "\n",
            "--------------------------------------------------\n",
            "Iteration 4\n",
            "185/185 [==============================] - 84s 453ms/step - loss: 0.6300\n",
            "\n",
            "----- diversity: 0.2\n",
            "----- Generating with seed: \"ll property was so nice.\n",
            "\n",
            "good food, good service, good view (overlooking the golf course).\n",
            "\n",
            "i had the chicken caprese sandwich which was quite tasty, but the burger my mom has was way better.  if you go here.... order a burger.  they are big, juicy and su\"\n",
            "ll property was so nice.\n",
            "\n",
            "good food, good service, good view (overlooking the golf course).\n",
            "\n",
            "i had the chicken caprese sandwich which was quite tasty, but the burger my mom has was way better.  if you go here.... order a burger.  they are big, juicy and sure while we lambly definitely be back and the food as the breakfas 2 stropp, say as a she sandwich was salman both. made a spicy comblemed and she sandwich was redlent selped by some of the sasked it was so shar busy. the waitress said of the sasce salads me was soon.  and the food is was sorns and the place is no bat and was sorn on their med phe sauce.  i dripps the salsa carner able specled con\n",
            "\n",
            "----- diversity: 0.4\n",
            "----- Generating with seed: \"ll property was so nice.\n",
            "\n",
            "good food, good service, good view (overlooking the golf course).\n",
            "\n",
            "i had the chicken caprese sandwich which was quite tasty, but the burger my mom has was way better.  if you go here.... order a burger.  they are big, juicy and su\"\n",
            "ll property was so nice.\n",
            "\n",
            "good food, good service, good view (overlooking the golf course).\n",
            "\n",
            "i had the chicken caprese sandwich which was quite tasty, but the burger my mom has was way better.  if you go here.... order a burger.  they are big, juicy and sure while we sauce.  she sat all way the breakfas 2 stro morit was sorn, but i had the cheere as bloss, the salmad on the brood. it that they were served plates that it's a bit selected on the brown of their happy hours.  i sausage that has all the breakfast was promps and the but it was sornle....lows or some can has been menuy be blishes but it's not in the mad and the salsa car best rither carn \n",
            "\n",
            "----- diversity: 0.6\n",
            "----- Generating with seed: \"ll property was so nice.\n",
            "\n",
            "good food, good service, good view (overlooking the golf course).\n",
            "\n",
            "i had the chicken caprese sandwich which was quite tasty, but the burger my mom has was way better.  if you go here.... order a burger.  they are big, juicy and su\"\n",
            "ll property was so nice.\n",
            "\n",
            "good food, good service, good view (overlooking the golf course).\n",
            "\n",
            "i had the chicken caprese sandwich which was quite tasty, but the burger my mom has was way better.  if you go here.... order a burger.  they are big, juicy and sure while my list pizza- alai and say a decided to clabbernned, and the bather table not the salce. is ho bless and the red me slow pood and some server was \"! red me some server with one of their happy hour....locol and not had a nice been beer peanuts. so i my several amound of the salce.  i's not a fee caters see to go back, but it's a breas places that all houy....and rets a some catering for s\n",
            "\n",
            "----- diversity: 0.8\n",
            "----- Generating with seed: \"ll property was so nice.\n",
            "\n",
            "good food, good service, good view (overlooking the golf course).\n",
            "\n",
            "i had the chicken caprese sandwich which was quite tasty, but the burger my mom has was way better.  if you go here.... order a burger.  they are big, juicy and su\"\n",
            "ll property was so nice.\n",
            "\n",
            "good food, good service, good view (overlooking the golf course).\n",
            "\n",
            "i had the chicken caprese sandwich which was quite tasty, but the burger my mom has was way better.  if you go here.... order a burger.  they are big, juicy and super sourding for me wall.  i can't like behord the regulars and lefor the server was definitely both the borthers and pater nat made their dons specling on the changler and stripp, and shopped sauce, and the rainbo your bottle for dessert and shopped for $2nons end shrimp, but i didn't had fine a great selfed with not ask a served or shar saled by sere was parilile lovely listakin, we were the che\n"
          ],
          "name": "stdout"
        }
      ]
    }
  ]
}